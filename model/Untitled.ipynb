{
 "cells": [
  {
   "cell_type": "code",
   "execution_count": 10,
   "metadata": {
    "collapsed": false
   },
   "outputs": [
    {
     "name": "stdout",
     "output_type": "stream",
     "text": [
      "     test-logloss-mean  test-logloss-std  train-logloss-mean  \\\n",
      "0             0.607529          0.000037            0.607529   \n",
      "1             0.537504          0.000085            0.537503   \n",
      "2             0.479259          0.000106            0.479256   \n",
      "3             0.430216          0.000168            0.430207   \n",
      "4             0.388558          0.000218            0.388545   \n",
      "5             0.352889          0.000256            0.352873   \n",
      "6             0.322185          0.000297            0.322163   \n",
      "7             0.295587          0.000339            0.295558   \n",
      "8             0.272505          0.000369            0.272469   \n",
      "9             0.252418          0.000406            0.252374   \n",
      "10            0.234881          0.000463            0.234827   \n",
      "11            0.219553          0.000505            0.219493   \n",
      "12            0.206158          0.000550            0.206088   \n",
      "13            0.194415          0.000567            0.194330   \n",
      "14            0.184111          0.000627            0.184015   \n",
      "15            0.175112          0.000639            0.175011   \n",
      "16            0.167155          0.000664            0.167053   \n",
      "17            0.160160          0.000700            0.160043   \n",
      "18            0.154025          0.000761            0.153900   \n",
      "19            0.148645          0.000817            0.148516   \n",
      "20            0.143918          0.000884            0.143779   \n",
      "21            0.139753          0.000855            0.139602   \n",
      "22            0.136093          0.000855            0.135939   \n",
      "23            0.132953          0.000889            0.132789   \n",
      "24            0.130196          0.000920            0.130019   \n",
      "25            0.127809          0.000943            0.127621   \n",
      "26            0.125716          0.000980            0.125519   \n",
      "27            0.123882          0.000972            0.123668   \n",
      "28            0.122252          0.000989            0.122023   \n",
      "29            0.120887          0.000990            0.120649   \n",
      "..                 ...               ...                 ...   \n",
      "395           0.107970          0.001313            0.102006   \n",
      "396           0.107967          0.001316            0.101992   \n",
      "397           0.107965          0.001312            0.101968   \n",
      "398           0.107964          0.001316            0.101948   \n",
      "399           0.107966          0.001315            0.101937   \n",
      "400           0.107965          0.001310            0.101922   \n",
      "401           0.107958          0.001313            0.101898   \n",
      "402           0.107945          0.001312            0.101868   \n",
      "403           0.107946          0.001309            0.101854   \n",
      "404           0.107943          0.001304            0.101845   \n",
      "405           0.107942          0.001308            0.101836   \n",
      "406           0.107940          0.001306            0.101822   \n",
      "407           0.107937          0.001304            0.101801   \n",
      "408           0.107940          0.001303            0.101788   \n",
      "409           0.107937          0.001306            0.101776   \n",
      "410           0.107936          0.001306            0.101765   \n",
      "411           0.107932          0.001305            0.101746   \n",
      "412           0.107935          0.001307            0.101730   \n",
      "413           0.107936          0.001304            0.101715   \n",
      "414           0.107937          0.001305            0.101701   \n",
      "415           0.107934          0.001298            0.101685   \n",
      "416           0.107934          0.001299            0.101676   \n",
      "417           0.107938          0.001300            0.101661   \n",
      "418           0.107939          0.001298            0.101651   \n",
      "419           0.107939          0.001299            0.101642   \n",
      "420           0.107941          0.001302            0.101628   \n",
      "421           0.107942          0.001301            0.101620   \n",
      "422           0.107935          0.001308            0.101600   \n",
      "423           0.107931          0.001304            0.101581   \n",
      "424           0.107931          0.001295            0.101564   \n",
      "\n",
      "     train-logloss-std  \n",
      "0             0.000071  \n",
      "1             0.000134  \n",
      "2             0.000195  \n",
      "3             0.000222  \n",
      "4             0.000255  \n",
      "5             0.000295  \n",
      "6             0.000328  \n",
      "7             0.000350  \n",
      "8             0.000377  \n",
      "9             0.000407  \n",
      "10            0.000402  \n",
      "11            0.000417  \n",
      "12            0.000429  \n",
      "13            0.000475  \n",
      "14            0.000468  \n",
      "15            0.000504  \n",
      "16            0.000527  \n",
      "17            0.000528  \n",
      "18            0.000522  \n",
      "19            0.000512  \n",
      "20            0.000488  \n",
      "21            0.000551  \n",
      "22            0.000595  \n",
      "23            0.000601  \n",
      "24            0.000608  \n",
      "25            0.000617  \n",
      "26            0.000614  \n",
      "27            0.000640  \n",
      "28            0.000650  \n",
      "29            0.000674  \n",
      "..                 ...  \n",
      "395           0.000464  \n",
      "396           0.000458  \n",
      "397           0.000472  \n",
      "398           0.000475  \n",
      "399           0.000480  \n",
      "400           0.000489  \n",
      "401           0.000488  \n",
      "402           0.000497  \n",
      "403           0.000499  \n",
      "404           0.000507  \n",
      "405           0.000510  \n",
      "406           0.000518  \n",
      "407           0.000518  \n",
      "408           0.000510  \n",
      "409           0.000502  \n",
      "410           0.000497  \n",
      "411           0.000508  \n",
      "412           0.000519  \n",
      "413           0.000521  \n",
      "414           0.000522  \n",
      "415           0.000528  \n",
      "416           0.000524  \n",
      "417           0.000524  \n",
      "418           0.000518  \n",
      "419           0.000512  \n",
      "420           0.000515  \n",
      "421           0.000511  \n",
      "422           0.000503  \n",
      "423           0.000503  \n",
      "424           0.000510  \n",
      "\n",
      "[425 rows x 4 columns]\n"
     ]
    }
   ],
   "source": [
    "import xgboost as xgb\n",
    "import pandas as pd\n",
    "import numpy as np\n",
    "\n",
    "#train = pd.read_csv('../dataset/pre/train.csv')\n",
    "labels = train[\"label\"]\n",
    "\n",
    "features = train.drop(['label','conversionTime'], axis=1)\n",
    "data_dmat = xgb.DMatrix(data=features, label=labels)\n",
    "\n",
    "params={\"max_depth\":5, \"min_child_weight\":2, \"eta\": 0.1, \"subsamples\":0.9, \"colsample_bytree\":0.8, \"objective\" : \"binary:logistic\", \"eval_metric\": \"logloss\", \"seed\": 2333}\n",
    "rounds = 500\n",
    "\n",
    "result = xgb.cv(params=params, dtrain=data_dmat, num_boost_round=rounds, early_stopping_rounds=20, as_pandas=True, seed=2333)\n",
    "print result"
   ]
  },
  {
   "cell_type": "code",
   "execution_count": 1,
   "metadata": {
    "collapsed": true
   },
   "outputs": [],
   "source": [
    "import pandas as pd"
   ]
  },
  {
   "cell_type": "code",
   "execution_count": 2,
   "metadata": {
    "collapsed": true
   },
   "outputs": [],
   "source": [
    "test = pd.read_csv('../dataset/pre/test.csv')\n",
    "train = pd.read_csv('../dataset/pre/train.csv')"
   ]
  },
  {
   "cell_type": "code",
   "execution_count": 3,
   "metadata": {
    "collapsed": true
   },
   "outputs": [],
   "source": [
    "test['clickDate'] = test['clickTime'].apply(lambda x : x/10000)"
   ]
  },
  {
   "cell_type": "code",
   "execution_count": 4,
   "metadata": {
    "collapsed": false
   },
   "outputs": [],
   "source": [
    "train['clickDate'] = train['clickTime'].apply(lambda x : x/10000)"
   ]
  },
  {
   "cell_type": "raw",
   "metadata": {
    "collapsed": false
   },
   "source": [
    "# 因推测30号的数据不准确，故采用往前的数据\n",
    "train  = train[(train.clickDate == 21) \n",
    "              | (train.clickDate == 22)\n",
    "              | (train.clickDate == 23)\n",
    "              | (train.clickDate == 24)\n",
    "              | (train.clickDate == 25)\n",
    "              | (train.clickDate == 26)\n",
    "              | (train.clickDate == 27)\n",
    "              | (train.clickDate == 28)\n",
    "              | (train.clickDate == 29)]"
   ]
  },
  {
   "cell_type": "code",
   "execution_count": 7,
   "metadata": {
    "collapsed": true
   },
   "outputs": [],
   "source": [
    "train  = train[(train.clickDate == 24)\n",
    "              | (train.clickDate == 17)]"
   ]
  },
  {
   "cell_type": "code",
   "execution_count": 11,
   "metadata": {
    "collapsed": true
   },
   "outputs": [],
   "source": [
    "train  = train[train.clickDate != 30]"
   ]
  },
  {
   "cell_type": "code",
   "execution_count": 12,
   "metadata": {
    "collapsed": false
   },
   "outputs": [
    {
     "data": {
      "text/plain": [
       "(918284, 11)"
      ]
     },
     "execution_count": 12,
     "metadata": {},
     "output_type": "execute_result"
    }
   ],
   "source": [
    "train['source']= 'train'\n",
    "test['source'] = 'test'\n",
    "data=pd.concat([train, test],ignore_index=True)\n",
    "data.shape"
   ]
  },
  {
   "cell_type": "code",
   "execution_count": 13,
   "metadata": {
    "collapsed": false
   },
   "outputs": [],
   "source": [
    "ad = pd.read_csv('../dataset/pre/ad.csv')\n",
    "#app_categories = pd.read_csv('../dataset/pre/app_categories.csv')\n",
    "position = pd.read_csv('../dataset/pre/position.csv')\n",
    "user = pd.read_csv('../dataset/pre/user.csv')\n",
    "#user_app_actions = pd.read_csv('../dataset/pre/user_app_actions.csv')\n",
    "#user_installedapps = pd.read_csv('../dataset/pre/user_installedapps.csv')"
   ]
  },
  {
   "cell_type": "markdown",
   "metadata": {},
   "source": [
    "-  特征重要性观察中发现，creativeID 和 positionID 是重要特征，于是单独列出，稀释比例\n",
    "-  随机森林中，用户所占比重过大，考虑稀释"
   ]
  },
  {
   "cell_type": "code",
   "execution_count": 40,
   "metadata": {
    "collapsed": false
   },
   "outputs": [],
   "source": [
    "data = data.merge(ad ,on = 'creativeID')\n",
    "\n",
    "data = data.merge(position, on = 'positionID')\n",
    "\n",
    "data = data.merge(user, on = 'userID')"
   ]
  },
  {
   "cell_type": "code",
   "execution_count": 14,
   "metadata": {
    "collapsed": false
   },
   "outputs": [
    {
     "name": "stderr",
     "output_type": "stream",
     "text": [
      "D:\\Anaconda2\\lib\\site-packages\\ipykernel\\__main__.py:2: SettingWithCopyWarning: \n",
      "A value is trying to be set on a copy of a slice from a DataFrame\n",
      "\n",
      "See the caveats in the documentation: http://pandas.pydata.org/pandas-docs/stable/indexing.html#indexing-view-versus-copy\n",
      "  from ipykernel import kernelapp as app\n",
      "D:\\Anaconda2\\lib\\site-packages\\ipykernel\\__main__.py:4: SettingWithCopyWarning: \n",
      "A value is trying to be set on a copy of a slice from a DataFrame\n",
      "\n",
      "See the caveats in the documentation: http://pandas.pydata.org/pandas-docs/stable/indexing.html#indexing-view-versus-copy\n"
     ]
    }
   ],
   "source": [
    "train = data[data.source == 'train']\n",
    "train.drop('source',axis=1,inplace=True)\n",
    "test = data[data.source == 'test']\n",
    "test.drop('source',axis=1,inplace=True)"
   ]
  },
  {
   "cell_type": "code",
   "execution_count": 15,
   "metadata": {
    "collapsed": true
   },
   "outputs": [],
   "source": [
    "import xgboost as xgb\n",
    "from sklearn.ensemble import RandomForestClassifier"
   ]
  },
  {
   "cell_type": "code",
   "execution_count": 16,
   "metadata": {
    "collapsed": true
   },
   "outputs": [],
   "source": [
    "feature = [x for x in train.columns if x not in ['label','conversionTime']]\n",
    "target = 'label'"
   ]
  },
  {
   "cell_type": "code",
   "execution_count": 17,
   "metadata": {
    "collapsed": true
   },
   "outputs": [],
   "source": [
    "model = RandomForestClassifier()"
   ]
  },
  {
   "cell_type": "code",
   "execution_count": 18,
   "metadata": {
    "collapsed": false
   },
   "outputs": [
    {
     "data": {
      "text/plain": [
       "RandomForestClassifier(bootstrap=True, class_weight=None, criterion='gini',\n",
       "            max_depth=None, max_features='auto', max_leaf_nodes=None,\n",
       "            min_impurity_split=1e-07, min_samples_leaf=1,\n",
       "            min_samples_split=2, min_weight_fraction_leaf=0.0,\n",
       "            n_estimators=10, n_jobs=1, oob_score=False, random_state=None,\n",
       "            verbose=0, warm_start=False)"
      ]
     },
     "execution_count": 18,
     "metadata": {},
     "output_type": "execute_result"
    }
   ],
   "source": [
    "model.fit(train[feature].fillna(-1),train[target])"
   ]
  },
  {
   "cell_type": "raw",
   "metadata": {},
   "source": [
    "['clickDate',\n",
    " 'clickTime',\n",
    " 'connectionType',\n",
    " 'creativeID',\n",
    " 'instanceID',\n",
    " 'positionID',\n",
    " 'telecomsOperator',\n",
    " 'userID',\n",
    " 'adID',\n",
    " 'camgaignID',\n",
    " 'advertiserID',\n",
    " 'appID',\n",
    " 'appPlatform',\n",
    " 'sitesetID',\n",
    " 'positionType']\n",
    "\n",
    "([ 0.02457939,  0.3996485 ,  0.00374631,  0.01433742,  0.        ,\n",
    "        0.07897195,  0.02048494,  0.42104962,  0.00879693,  0.00690305,\n",
    "        0.00685911,  0.00631569,  0.00074016,  0.00429126,  0.00327569])"
   ]
  },
  {
   "cell_type": "code",
   "execution_count": 19,
   "metadata": {
    "collapsed": false
   },
   "outputs": [
    {
     "data": {
      "text/plain": [
       "['clickDate',\n",
       " 'clickTime',\n",
       " 'connectionType',\n",
       " 'creativeID',\n",
       " 'instanceID',\n",
       " 'positionID',\n",
       " 'telecomsOperator',\n",
       " 'userID']"
      ]
     },
     "execution_count": 19,
     "metadata": {},
     "output_type": "execute_result"
    }
   ],
   "source": [
    "feature"
   ]
  },
  {
   "cell_type": "code",
   "execution_count": 21,
   "metadata": {
    "collapsed": false
   },
   "outputs": [
    {
     "data": {
      "text/plain": [
       "array([ 0.00172931,  0.36519427,  0.00469371,  0.09912568,  0.        ,\n",
       "        0.112893  ,  0.01035398,  0.40601005])"
      ]
     },
     "execution_count": 21,
     "metadata": {},
     "output_type": "execute_result"
    }
   ],
   "source": [
    "model.feature_importances_"
   ]
  },
  {
   "cell_type": "code",
   "execution_count": 22,
   "metadata": {
    "collapsed": false
   },
   "outputs": [],
   "source": [
    "predict1 = model.predict(test[feature].fillna(-1))\n",
    "out1 = model.predict_proba(test[feature].fillna(-1))"
   ]
  },
  {
   "cell_type": "code",
   "execution_count": 23,
   "metadata": {
    "collapsed": false
   },
   "outputs": [
    {
     "data": {
      "text/plain": [
       "0    337919\n",
       "1       570\n",
       "Name: 0, dtype: int64"
      ]
     },
     "execution_count": 23,
     "metadata": {},
     "output_type": "execute_result"
    }
   ],
   "source": [
    "pd.DataFrame(predict1)[0].value_counts()"
   ]
  },
  {
   "cell_type": "code",
   "execution_count": 24,
   "metadata": {
    "collapsed": true
   },
   "outputs": [],
   "source": [
    "model2 = xgb.XGBClassifier()"
   ]
  },
  {
   "cell_type": "code",
   "execution_count": 25,
   "metadata": {
    "collapsed": false
   },
   "outputs": [
    {
     "data": {
      "text/plain": [
       "XGBClassifier(base_score=0.5, colsample_bylevel=1, colsample_bytree=1,\n",
       "       gamma=0, learning_rate=0.1, max_delta_step=0, max_depth=3,\n",
       "       min_child_weight=1, missing=None, n_estimators=100, nthread=-1,\n",
       "       objective='binary:logistic', reg_alpha=0, reg_lambda=1,\n",
       "       scale_pos_weight=1, seed=0, silent=True, subsample=1)"
      ]
     },
     "execution_count": 25,
     "metadata": {},
     "output_type": "execute_result"
    }
   ],
   "source": [
    "model2.fit(train[feature],train[target])"
   ]
  },
  {
   "cell_type": "raw",
   "metadata": {},
   "source": [
    "['clickDate',\n",
    " 'clickTime',\n",
    " 'connectionType',\n",
    " 'creativeID',\n",
    " 'instanceID',\n",
    " 'positionID',\n",
    " 'telecomsOperator',\n",
    " 'userID',\n",
    " 'adID',\n",
    " 'camgaignID',\n",
    " 'advertiserID',\n",
    " 'appID',\n",
    " 'appPlatform',\n",
    " 'sitesetID',\n",
    " 'positionType']\n",
    "\n",
    "[ 0.        ,  0.00858369,  0.12017167,  0.09585121,  0.        ,\n",
    "        0.11158799,  0.00143062,  0.01573677,  0.10157368,  0.06866953,\n",
    "        0.13876967,  0.18168813,  0.        ,  0.08011445,  0.07582261]"
   ]
  },
  {
   "cell_type": "code",
   "execution_count": 26,
   "metadata": {
    "collapsed": false
   },
   "outputs": [
    {
     "data": {
      "text/plain": [
       "['clickDate',\n",
       " 'clickTime',\n",
       " 'connectionType',\n",
       " 'creativeID',\n",
       " 'instanceID',\n",
       " 'positionID',\n",
       " 'telecomsOperator',\n",
       " 'userID']"
      ]
     },
     "execution_count": 26,
     "metadata": {},
     "output_type": "execute_result"
    }
   ],
   "source": [
    "feature"
   ]
  },
  {
   "cell_type": "code",
   "execution_count": 27,
   "metadata": {
    "collapsed": false
   },
   "outputs": [
    {
     "data": {
      "text/plain": [
       "array([ 0.        ,  0.06916427,  0.11527377,  0.32420748,  0.        ,\n",
       "        0.4668588 ,  0.00288184,  0.02161383], dtype=float32)"
      ]
     },
     "execution_count": 27,
     "metadata": {},
     "output_type": "execute_result"
    }
   ],
   "source": [
    "model2.feature_importances_"
   ]
  },
  {
   "cell_type": "code",
   "execution_count": 28,
   "metadata": {
    "collapsed": false
   },
   "outputs": [],
   "source": [
    "predict2 = model2.predict(test[feature])\n",
    "out2 = model2.predict_proba(test[feature])"
   ]
  },
  {
   "cell_type": "code",
   "execution_count": 29,
   "metadata": {
    "collapsed": false
   },
   "outputs": [
    {
     "data": {
      "text/plain": [
       "0    338489\n",
       "Name: 0, dtype: int64"
      ]
     },
     "execution_count": 29,
     "metadata": {},
     "output_type": "execute_result"
    }
   ],
   "source": [
    "pd.DataFrame(predict2)[0].value_counts()"
   ]
  },
  {
   "cell_type": "code",
   "execution_count": 30,
   "metadata": {
    "collapsed": false
   },
   "outputs": [
    {
     "data": {
      "text/plain": [
       "array([ 0. ,  0.1,  0.1, ...,  0. ,  0. ,  0. ])"
      ]
     },
     "execution_count": 30,
     "metadata": {},
     "output_type": "execute_result"
    }
   ],
   "source": [
    "out1[:,1]"
   ]
  },
  {
   "cell_type": "code",
   "execution_count": 31,
   "metadata": {
    "collapsed": false
   },
   "outputs": [
    {
     "data": {
      "text/plain": [
       "array([ 0.01477208,  0.01931296,  0.00567335, ...,  0.03020852,\n",
       "        0.00830845,  0.0052004 ], dtype=float32)"
      ]
     },
     "execution_count": 31,
     "metadata": {},
     "output_type": "execute_result"
    }
   ],
   "source": [
    "out2[:,1]"
   ]
  },
  {
   "cell_type": "code",
   "execution_count": 33,
   "metadata": {
    "collapsed": true
   },
   "outputs": [],
   "source": [
    "predict = out1[:,1]*0.1 + out2[:,1]*0.9"
   ]
  },
  {
   "cell_type": "code",
   "execution_count": 39,
   "metadata": {
    "collapsed": true
   },
   "outputs": [],
   "source": [
    "predict = out2[:,1]"
   ]
  },
  {
   "cell_type": "code",
   "execution_count": 40,
   "metadata": {
    "collapsed": false
   },
   "outputs": [],
   "source": [
    "submission = pd.DataFrame(test['instanceID'])"
   ]
  },
  {
   "cell_type": "code",
   "execution_count": 41,
   "metadata": {
    "collapsed": false
   },
   "outputs": [],
   "source": [
    "submission['instanceID'] = submission['instanceID'].astype(int)"
   ]
  },
  {
   "cell_type": "code",
   "execution_count": 42,
   "metadata": {
    "collapsed": false
   },
   "outputs": [],
   "source": [
    "submission = submission.sort_values('instanceID')"
   ]
  },
  {
   "cell_type": "code",
   "execution_count": 43,
   "metadata": {
    "collapsed": false
   },
   "outputs": [],
   "source": [
    "submission['pro'] = predict"
   ]
  },
  {
   "cell_type": "code",
   "execution_count": 44,
   "metadata": {
    "collapsed": false
   },
   "outputs": [],
   "source": [
    "submission.to_csv('../output/submission.csv',index=False)"
   ]
  },
  {
   "cell_type": "code",
   "execution_count": null,
   "metadata": {
    "collapsed": true
   },
   "outputs": [],
   "source": []
  }
 ],
 "metadata": {
  "kernelspec": {
   "display_name": "Python 2",
   "language": "python",
   "name": "python2"
  },
  "language_info": {
   "codemirror_mode": {
    "name": "ipython",
    "version": 2
   },
   "file_extension": ".py",
   "mimetype": "text/x-python",
   "name": "python",
   "nbconvert_exporter": "python",
   "pygments_lexer": "ipython2",
   "version": "2.7.13"
  }
 },
 "nbformat": 4,
 "nbformat_minor": 2
}
