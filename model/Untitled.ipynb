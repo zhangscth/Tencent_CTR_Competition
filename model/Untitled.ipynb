{
 "cells": [
  {
   "cell_type": "code",
   "execution_count": 35,
   "metadata": {
    "collapsed": false
   },
   "outputs": [
    {
     "name": "stdout",
     "output_type": "stream",
     "text": [
      "    test-logloss-mean  test-logloss-std  train-logloss-mean  train-logloss-std\n",
      "0            0.607393          0.000025            0.607392           0.000036\n",
      "1            0.537263          0.000020            0.537261           0.000101\n",
      "2            0.478927          0.000067            0.478925           0.000107\n",
      "3            0.429806          0.000079            0.429802           0.000137\n",
      "4            0.388073          0.000102            0.388069           0.000159\n",
      "5            0.352333          0.000110            0.352329           0.000193\n",
      "6            0.321558          0.000133            0.321553           0.000207\n",
      "7            0.294916          0.000171            0.294909           0.000206\n",
      "8            0.271789          0.000210            0.271782           0.000204\n",
      "9            0.251660          0.000212            0.251651           0.000236\n",
      "10           0.234100          0.000250            0.234090           0.000228\n",
      "11           0.218736          0.000258            0.218724           0.000249\n",
      "12           0.205284          0.000287            0.205271           0.000245\n",
      "13           0.193514          0.000303            0.193497           0.000255\n",
      "14           0.183177          0.000312            0.183160           0.000267\n",
      "15           0.174138          0.000355            0.174118           0.000262\n",
      "16           0.166155          0.000362            0.166134           0.000284\n",
      "17           0.159139          0.000388            0.159114           0.000280\n",
      "18           0.153004          0.000400            0.152979           0.000284\n",
      "19           0.147618          0.000397            0.147590           0.000300\n",
      "20           0.142893          0.000417            0.142862           0.000290\n",
      "21           0.138770          0.000439            0.138737           0.000286\n",
      "22           0.135143          0.000442            0.135109           0.000300\n",
      "23           0.131995          0.000460            0.131960           0.000298\n",
      "24           0.129236          0.000462            0.129197           0.000311\n",
      "25           0.126802          0.000483            0.126760           0.000302\n",
      "26           0.124689          0.000503            0.124646           0.000302\n",
      "27           0.122826          0.000548            0.122780           0.000283\n",
      "28           0.121234          0.000563            0.121185           0.000282\n",
      "29           0.119852          0.000581            0.119800           0.000280\n",
      "30           0.118593          0.000661            0.118538           0.000213\n",
      "31           0.117579          0.000703            0.117522           0.000171\n",
      "32           0.116639          0.000736            0.116579           0.000211\n",
      "33           0.115817          0.000734            0.115762           0.000211\n",
      "34           0.115049          0.000663            0.114986           0.000238\n",
      "35           0.114360          0.000598            0.114300           0.000303\n",
      "36           0.113808          0.000602            0.113744           0.000299\n",
      "37           0.113299          0.000640            0.113230           0.000267\n",
      "38           0.112905          0.000646            0.112833           0.000269\n",
      "39           0.112525          0.000624            0.112456           0.000296\n",
      "40           0.112182          0.000664            0.112107           0.000259\n",
      "41           0.111895          0.000664            0.111819           0.000263\n",
      "42           0.111640          0.000695            0.111559           0.000231\n",
      "43           0.111381          0.000689            0.111296           0.000249\n",
      "44           0.111168          0.000717            0.111080           0.000224\n",
      "45           0.110972          0.000696            0.110880           0.000244\n",
      "46           0.110778          0.000673            0.110679           0.000277\n",
      "47           0.110606          0.000699            0.110506           0.000256\n",
      "48           0.110453          0.000689            0.110351           0.000263\n",
      "49           0.110300          0.000683            0.110196           0.000276\n"
     ]
    }
   ],
   "source": [
    "import xgboost as xgb\n",
    "import pandas as pd\n",
    "import numpy as np\n",
    "\n",
    "#train = pd.read_csv('../dataset/pre/train.csv')\n",
    "labels = train[\"label\"]\n",
    "\n",
    "features = train.drop(['label','conversionTime'], axis=1)\n",
    "data_dmat = xgb.DMatrix(data=features, label=labels)\n",
    "\n",
    "params={\"max_depth\":5, \"min_child_weight\":2, \"eta\": 0.1, \"subsamples\":0.9, \"colsample_bytree\":0.8, \"objective\" : \"binary:logistic\", \"eval_metric\": \"logloss\", \"seed\": 2333}\n",
    "rounds = 50\n",
    "\n",
    "result = xgb.cv(params=params, dtrain=data_dmat, num_boost_round=rounds, early_stopping_rounds=5, as_pandas=True, seed=2333)\n",
    "print result"
   ]
  },
  {
   "cell_type": "code",
   "execution_count": 1,
   "metadata": {
    "collapsed": true
   },
   "outputs": [],
   "source": [
    "import pandas as pd"
   ]
  },
  {
   "cell_type": "code",
   "execution_count": 2,
   "metadata": {
    "collapsed": true
   },
   "outputs": [],
   "source": [
    "test = pd.read_csv('../dataset/pre/test.csv')\n",
    "train = pd.read_csv('../dataset/pre/train.csv')"
   ]
  },
  {
   "cell_type": "code",
   "execution_count": 16,
   "metadata": {
    "collapsed": true
   },
   "outputs": [],
   "source": [
    "test['clickDate'] = test['clickTime'].apply(lambda x : x/10000)"
   ]
  },
  {
   "cell_type": "code",
   "execution_count": 3,
   "metadata": {
    "collapsed": false
   },
   "outputs": [],
   "source": [
    "train['clickDate'] = train['clickTime'].apply(lambda x : x/10000)"
   ]
  },
  {
   "cell_type": "code",
   "execution_count": 4,
   "metadata": {
    "collapsed": false
   },
   "outputs": [],
   "source": [
    "train  = train[(train.clickDate == 21) \n",
    "              | (train.clickDate == 22)\n",
    "              | (train.clickDate == 23)\n",
    "              | (train.clickDate == 24)\n",
    "              | (train.clickDate == 25)\n",
    "              | (train.clickDate == 26)\n",
    "              | (train.clickDate == 27)\n",
    "              | (train.clickDate == 28)\n",
    "              | (train.clickDate == 29)]"
   ]
  },
  {
   "cell_type": "code",
   "execution_count": 5,
   "metadata": {
    "collapsed": false
   },
   "outputs": [],
   "source": [
    "ad = pd.read_csv('../dataset/pre/ad.csv')\n",
    "app_categories = pd.read_csv('../dataset/pre/app_categories.csv')\n",
    "position = pd.read_csv('../dataset/pre/position.csv')\n",
    "user = pd.read_csv('../dataset/pre/user.csv')\n",
    "user_app_actions = pd.read_csv('../dataset/pre/user_app_actions.csv')\n",
    "user_installedapps = pd.read_csv('../dataset/pre/user_installedapps.csv')"
   ]
  },
  {
   "cell_type": "code",
   "execution_count": 6,
   "metadata": {
    "collapsed": false
   },
   "outputs": [
    {
     "data": {
      "text/plain": [
       "0    2582920\n",
       "1      67047\n",
       "Name: label, dtype: int64"
      ]
     },
     "execution_count": 6,
     "metadata": {},
     "output_type": "execute_result"
    }
   ],
   "source": [
    "train['label'].value_counts()"
   ]
  },
  {
   "cell_type": "code",
   "execution_count": 8,
   "metadata": {
    "collapsed": false
   },
   "outputs": [
    {
     "name": "stdout",
     "output_type": "stream",
     "text": [
      "<class 'pandas.core.frame.DataFrame'>\n",
      "RangeIndex: 338489 entries, 0 to 338488\n",
      "Data columns (total 8 columns):\n",
      "instanceID          338489 non-null int64\n",
      "label               338489 non-null int64\n",
      "clickTime           338489 non-null int64\n",
      "creativeID          338489 non-null int64\n",
      "userID              338489 non-null int64\n",
      "positionID          338489 non-null int64\n",
      "connectionType      338489 non-null int64\n",
      "telecomsOperator    338489 non-null int64\n",
      "dtypes: int64(8)\n",
      "memory usage: 20.7 MB\n"
     ]
    }
   ],
   "source": [
    "test.info()"
   ]
  },
  {
   "cell_type": "code",
   "execution_count": 9,
   "metadata": {
    "collapsed": true
   },
   "outputs": [],
   "source": [
    "import xgboost as xgb\n",
    "from sklearn.ensemble import RandomForestClassifier"
   ]
  },
  {
   "cell_type": "code",
   "execution_count": 10,
   "metadata": {
    "collapsed": true
   },
   "outputs": [],
   "source": [
    "feature = [x for x in train.columns if x not in ['label','conversionTime']]\n",
    "target = 'label'"
   ]
  },
  {
   "cell_type": "code",
   "execution_count": 11,
   "metadata": {
    "collapsed": true
   },
   "outputs": [],
   "source": [
    "model = RandomForestClassifier()"
   ]
  },
  {
   "cell_type": "code",
   "execution_count": 13,
   "metadata": {
    "collapsed": false
   },
   "outputs": [
    {
     "data": {
      "text/plain": [
       "RandomForestClassifier(bootstrap=True, class_weight=None, criterion='gini',\n",
       "            max_depth=None, max_features='auto', max_leaf_nodes=None,\n",
       "            min_impurity_split=1e-07, min_samples_leaf=1,\n",
       "            min_samples_split=2, min_weight_fraction_leaf=0.0,\n",
       "            n_estimators=10, n_jobs=1, oob_score=False, random_state=None,\n",
       "            verbose=0, warm_start=False)"
      ]
     },
     "execution_count": 13,
     "metadata": {},
     "output_type": "execute_result"
    }
   ],
   "source": [
    "model.fit(train[feature],train[target])"
   ]
  },
  {
   "cell_type": "code",
   "execution_count": 14,
   "metadata": {
    "collapsed": false
   },
   "outputs": [
    {
     "data": {
      "text/plain": [
       "array([ 0.38982326,  0.08177365,  0.41528333,  0.07937586,  0.0038321 ,\n",
       "        0.01290055,  0.01701125])"
      ]
     },
     "execution_count": 14,
     "metadata": {},
     "output_type": "execute_result"
    }
   ],
   "source": [
    "model.feature_importances_"
   ]
  },
  {
   "cell_type": "code",
   "execution_count": 17,
   "metadata": {
    "collapsed": false
   },
   "outputs": [],
   "source": [
    "predict1 = model.predict(test[feature])\n",
    "out1 = model.predict_proba(test[feature])"
   ]
  },
  {
   "cell_type": "code",
   "execution_count": 18,
   "metadata": {
    "collapsed": false
   },
   "outputs": [
    {
     "data": {
      "text/plain": [
       "0    337508\n",
       "1       981\n",
       "Name: 0, dtype: int64"
      ]
     },
     "execution_count": 18,
     "metadata": {},
     "output_type": "execute_result"
    }
   ],
   "source": [
    "pd.DataFrame(predict1)[0].value_counts()"
   ]
  },
  {
   "cell_type": "code",
   "execution_count": 19,
   "metadata": {
    "collapsed": true
   },
   "outputs": [],
   "source": [
    "model2 = xgb.XGBClassifier()"
   ]
  },
  {
   "cell_type": "code",
   "execution_count": 20,
   "metadata": {
    "collapsed": false
   },
   "outputs": [
    {
     "data": {
      "text/plain": [
       "XGBClassifier(base_score=0.5, colsample_bylevel=1, colsample_bytree=1,\n",
       "       gamma=0, learning_rate=0.1, max_delta_step=0, max_depth=3,\n",
       "       min_child_weight=1, missing=None, n_estimators=100, nthread=-1,\n",
       "       objective='binary:logistic', reg_alpha=0, reg_lambda=1,\n",
       "       scale_pos_weight=1, seed=0, silent=True, subsample=1)"
      ]
     },
     "execution_count": 20,
     "metadata": {},
     "output_type": "execute_result"
    }
   ],
   "source": [
    "model2.fit(train[feature],train[target])"
   ]
  },
  {
   "cell_type": "code",
   "execution_count": 21,
   "metadata": {
    "collapsed": false
   },
   "outputs": [
    {
     "data": {
      "text/plain": [
       "array([ 0.00714286,  0.37285715,  0.00142857,  0.48714286,  0.11285714,\n",
       "        0.01857143,  0.        ], dtype=float32)"
      ]
     },
     "execution_count": 21,
     "metadata": {},
     "output_type": "execute_result"
    }
   ],
   "source": [
    "model2.feature_importances_"
   ]
  },
  {
   "cell_type": "code",
   "execution_count": 22,
   "metadata": {
    "collapsed": false
   },
   "outputs": [],
   "source": [
    "predict2 = model2.predict(test[feature])\n",
    "out2 = model2.predict_proba(test[feature])"
   ]
  },
  {
   "cell_type": "code",
   "execution_count": 23,
   "metadata": {
    "collapsed": false
   },
   "outputs": [
    {
     "data": {
      "text/plain": [
       "0    338489\n",
       "Name: 0, dtype: int64"
      ]
     },
     "execution_count": 23,
     "metadata": {},
     "output_type": "execute_result"
    }
   ],
   "source": [
    "pd.DataFrame(predict2)[0].value_counts()"
   ]
  },
  {
   "cell_type": "code",
   "execution_count": 24,
   "metadata": {
    "collapsed": false
   },
   "outputs": [
    {
     "data": {
      "text/plain": [
       "array([ 0.,  0.,  0., ...,  0.,  0.,  0.])"
      ]
     },
     "execution_count": 24,
     "metadata": {},
     "output_type": "execute_result"
    }
   ],
   "source": [
    "out1[:,1]"
   ]
  },
  {
   "cell_type": "code",
   "execution_count": 25,
   "metadata": {
    "collapsed": false
   },
   "outputs": [
    {
     "data": {
      "text/plain": [
       "array([ 0.0143971 ,  0.01710395,  0.0057922 , ...,  0.02308859,\n",
       "        0.00854214,  0.00511939], dtype=float32)"
      ]
     },
     "execution_count": 25,
     "metadata": {},
     "output_type": "execute_result"
    }
   ],
   "source": [
    "out2[:,1]"
   ]
  },
  {
   "cell_type": "code",
   "execution_count": 28,
   "metadata": {
    "collapsed": true
   },
   "outputs": [],
   "source": [
    "predict = out1[:,1]*0.6 + out2[:,1]*0.4"
   ]
  },
  {
   "cell_type": "code",
   "execution_count": 39,
   "metadata": {
    "collapsed": true
   },
   "outputs": [],
   "source": [
    "predict = out2[:,1]"
   ]
  },
  {
   "cell_type": "code",
   "execution_count": 40,
   "metadata": {
    "collapsed": false
   },
   "outputs": [],
   "source": [
    "submission = pd.DataFrame(test['instanceID'])"
   ]
  },
  {
   "cell_type": "code",
   "execution_count": 41,
   "metadata": {
    "collapsed": false
   },
   "outputs": [],
   "source": [
    "submission['pro'] = predict"
   ]
  },
  {
   "cell_type": "code",
   "execution_count": 42,
   "metadata": {
    "collapsed": false
   },
   "outputs": [],
   "source": [
    "submission.to_csv('../output/submission.csv',index=False)"
   ]
  },
  {
   "cell_type": "code",
   "execution_count": null,
   "metadata": {
    "collapsed": true
   },
   "outputs": [],
   "source": []
  }
 ],
 "metadata": {
  "kernelspec": {
   "display_name": "Python 2",
   "language": "python",
   "name": "python2"
  },
  "language_info": {
   "codemirror_mode": {
    "name": "ipython",
    "version": 2
   },
   "file_extension": ".py",
   "mimetype": "text/x-python",
   "name": "python",
   "nbconvert_exporter": "python",
   "pygments_lexer": "ipython2",
   "version": "2.7.13"
  }
 },
 "nbformat": 4,
 "nbformat_minor": 2
}
