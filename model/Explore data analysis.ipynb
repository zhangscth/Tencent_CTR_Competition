{
 "cells": [
  {
   "cell_type": "markdown",
   "metadata": {},
   "source": [
    "- Author：kuhung （https://github.com/kuhung）\n",
    "- Create time：2017/5/11"
   ]
  },
  {
   "cell_type": "code",
   "execution_count": 26,
   "metadata": {
    "collapsed": true
   },
   "outputs": [],
   "source": [
    "import pandas as pd\n",
    "%matplotlib inline"
   ]
  },
  {
   "cell_type": "code",
   "execution_count": 39,
   "metadata": {
    "collapsed": false
   },
   "outputs": [
    {
     "data": {
      "text/plain": [
       "(4088017, 10)"
      ]
     },
     "execution_count": 39,
     "metadata": {},
     "output_type": "execute_result"
    }
   ],
   "source": [
    "train = pd.read_csv('../dataset/pre/train.csv')\n",
    "test = pd.read_csv('../dataset/pre/test.csv')\n",
    "\n",
    "train['source']= 'train'\n",
    "test['source'] = 'test'\n",
    "data=pd.concat([train, test],ignore_index=True)\n",
    "data.shape"
   ]
  },
  {
   "cell_type": "code",
   "execution_count": 37,
   "metadata": {
    "collapsed": false
   },
   "outputs": [
    {
     "data": {
      "text/plain": [
       "(302359, 170000)"
      ]
     },
     "execution_count": 37,
     "metadata": {},
     "output_type": "execute_result"
    }
   ],
   "source": [
    "train['clickTime'].max(),train['clickTime'].min()"
   ]
  },
  {
   "cell_type": "markdown",
   "metadata": {},
   "source": [
    "### 对感兴趣的特征进行观察"
   ]
  },
  {
   "cell_type": "markdown",
   "metadata": {},
   "source": [
    "- 查看训练集日转化量"
   ]
  },
  {
   "cell_type": "code",
   "execution_count": 28,
   "metadata": {
    "collapsed": false
   },
   "outputs": [
    {
     "data": {
      "text/plain": [
       "<matplotlib.axes._subplots.AxesSubplot at 0x7f797d412e90>"
      ]
     },
     "execution_count": 28,
     "metadata": {},
     "output_type": "execute_result"
    },
    {
     "data": {
      "image/png": "[encoded data removed]",
      "text/plain": [
       "<matplotlib.figure.Figure at 0x7f797d418ed0>"
      ]
     },
     "metadata": {},
     "output_type": "display_data"
    }
   ],
   "source": [
    "train['clickDate'] = train['clickTime'].apply(lambda x : x/10000)\n",
    "\n",
    "train.groupby(['clickDate']).sum() ['label'].plot(figsize=(12,6))"
   ]
  },
  {
   "cell_type": "code",
   "execution_count": 31,
   "metadata": {
    "collapsed": false
   },
   "outputs": [
    {
     "data": {
      "text/plain": [
       "clickDate\n",
       "17    7464\n",
       "18    4101\n",
       "19    3286\n",
       "20    5056\n",
       "21    7121\n",
       "22    7371\n",
       "23    7607\n",
       "24    7382\n",
       "25    7376\n",
       "26    7736\n",
       "27    7649\n",
       "28    7343\n",
       "29    7462\n",
       "30    6308\n",
       "Name: label, dtype: int64"
      ]
     },
     "execution_count": 31,
     "metadata": {},
     "output_type": "execute_result"
    }
   ],
   "source": [
    "train.groupby(['clickDate']).sum() ['label']"
   ]
  },
  {
   "cell_type": "markdown",
   "metadata": {},
   "source": [
    "- 结论：\n",
    " 1. 18\\19\\20的数据存在异常，使用时应慎重/ 后期注意排查\n",
    " 2. 30号的数据出现滑坡，推测可能是部分样本未得到统计。不建议把30号的数据作为训练或验证集。\n",
    " \n",
    " 3. 即：目前可用的数据为 21-29 九天数据。"
   ]
  },
  {
   "cell_type": "markdown",
   "metadata": {},
   "source": [
    "### 查看总数据的用户数目以及广告数目"
   ]
  },
  {
   "cell_type": "code",
   "execution_count": 51,
   "metadata": {
    "collapsed": false
   },
   "outputs": [
    {
     "data": {
      "text/plain": [
       "4088017"
      ]
     },
     "execution_count": 51,
     "metadata": {},
     "output_type": "execute_result"
    }
   ],
   "source": [
    "data.shape[0]"
   ]
  },
  {
   "cell_type": "code",
   "execution_count": 48,
   "metadata": {
    "collapsed": false
   },
   "outputs": [
    {
     "data": {
      "text/plain": [
       "(2805118, 6582, 2595627, 6315)"
      ]
     },
     "execution_count": 48,
     "metadata": {},
     "output_type": "execute_result"
    }
   ],
   "source": [
    "len(data['userID'].unique()),len(data['creativeID'].unique())"
   ]
  },
  {
   "cell_type": "code",
   "execution_count": 49,
   "metadata": {
    "collapsed": false
   },
   "outputs": [
    {
     "data": {
      "text/plain": [
       "(2595627, 6315, 297466, 2173)"
      ]
     },
     "execution_count": 49,
     "metadata": {},
     "output_type": "execute_result"
    }
   ],
   "source": [
    "len(train['userID'].unique()),len(train['creativeID'].unique()),len(test['userID'].unique()),len(test['creativeID'].unique())"
   ]
  },
  {
   "cell_type": "code",
   "execution_count": 63,
   "metadata": {
    "collapsed": false
   },
   "outputs": [
    {
     "name": "stdout",
     "output_type": "stream",
     "text": [
      "\n",
      "同一用户出现的平均次数:\n",
      "1.45734225797\n",
      "\n",
      "同一广告曝光的平均次数:\n",
      "621.090398055\n",
      "\n",
      "同一广告曝光在同一用户的平均次数:\n",
      "426.180188393\n",
      "\n",
      "训练集中同一广告曝光在同一用户的平均次数:\n",
      "411.025653207\n",
      "\n",
      "测试集中同一广告曝光在同一用户的平均次数:\n",
      "136.891854579\n"
     ]
    }
   ],
   "source": [
    "print '\\n同一用户出现的平均次数:'\n",
    "print float(data.shape[0])/len(data['userID'].unique())   \n",
    "\n",
    "print '\\n同一广告曝光的平均次数:'\n",
    "print float(data.shape[0])/len(data['creativeID'].unique())\n",
    "\n",
    "print '\\n同一广告曝光在同一用户的平均次数:'\n",
    "print float(len(data['userID'].unique()))   /len(data['creativeID'].unique())\n",
    "\n",
    "print '\\n训练集中同一广告曝光在同一用户的平均次数:'\n",
    "print float(len(train['userID'].unique()))   /len(train['creativeID'].unique())\n",
    "\n",
    "print '\\n测试集中同一广告曝光在同一用户的平均次数:'\n",
    "print float(len(test['userID'].unique()))   /len(test['creativeID'].unique())"
   ]
  },
  {
   "cell_type": "code",
   "execution_count": 66,
   "metadata": {
    "collapsed": false
   },
   "outputs": [
    {
     "data": {
      "text/plain": [
       "1884671    113\n",
       "865369     101\n",
       "2177410     98\n",
       "674047      86\n",
       "2453862     79\n",
       "Name: userID, dtype: int64"
      ]
     },
     "execution_count": 66,
     "metadata": {},
     "output_type": "execute_result"
    }
   ],
   "source": [
    "data['userID'].value_counts().head()"
   ]
  },
  {
   "cell_type": "code",
   "execution_count": 73,
   "metadata": {
    "collapsed": false
   },
   "outputs": [
    {
     "data": {
      "text/plain": [
       "(0, 10)"
      ]
     },
     "execution_count": 73,
     "metadata": {},
     "output_type": "execute_result"
    }
   ],
   "source": [
    "data[(data.userID == 2453862) & (data.label ==1)].shape"
   ]
  },
  {
   "cell_type": "code",
   "execution_count": null,
   "metadata": {
    "collapsed": true
   },
   "outputs": [],
   "source": [
    "data"
   ]
  },
  {
   "cell_type": "markdown",
   "metadata": {},
   "source": [
    "- 结论：平均而言，每个用户出现了1.5次，属于理想状态。"
   ]
  }
 ],
 "metadata": {
  "kernelspec": {
   "display_name": "Python [Root]",
   "language": "python",
   "name": "Python [Root]"
  },
  "language_info": {
   "codemirror_mode": {
    "name": "ipython",
    "version": 2
   },
   "file_extension": ".py",
   "mimetype": "text/x-python",
   "name": "python",
   "nbconvert_exporter": "python",
   "pygments_lexer": "ipython2",
   "version": "2.7.12"
  }
 },
 "nbformat": 4,
 "nbformat_minor": 0
}
